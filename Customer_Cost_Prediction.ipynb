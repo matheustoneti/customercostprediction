{
  "nbformat": 4,
  "nbformat_minor": 0,
  "metadata": {
    "colab": {
      "provenance": [],
      "authorship_tag": "ABX9TyMj5eOdv6kJYiad0ZH9NFSD",
      "include_colab_link": true
    },
    "kernelspec": {
      "name": "python3",
      "display_name": "Python 3"
    },
    "language_info": {
      "name": "python"
    }
  },
  "cells": [
    {
      "cell_type": "markdown",
      "metadata": {
        "id": "view-in-github",
        "colab_type": "text"
      },
      "source": [
        "<a href=\"https://colab.research.google.com/github/matheustoneti/customercostprediction/blob/main/Customer_Cost_Prediction.ipynb\" target=\"_parent\"><img src=\"https://colab.research.google.com/assets/colab-badge.svg\" alt=\"Open In Colab\"/></a>"
      ]
    },
    {
      "cell_type": "code",
      "execution_count": 52,
      "metadata": {
        "id": "O9OkSinItHpD"
      },
      "outputs": [],
      "source": [
        "import pandas as pd\n",
        "import numpy as np\n",
        "import matplotlib.pyplot as plt\n",
        "import seaborn as sns\n",
        "from sklearn import preprocessing\n",
        "from sklearn.model_selection import train_test_split\n",
        "from sklearn.tree import DecisionTreeRegressor"
      ]
    },
    {
      "cell_type": "code",
      "source": [
        "df = pd.read_csv('media prediction and its cost.csv')"
      ],
      "metadata": {
        "id": "_3lo_eyctSX2"
      },
      "execution_count": 8,
      "outputs": []
    },
    {
      "cell_type": "code",
      "source": [
        "df['sales_country']"
      ],
      "metadata": {
        "colab": {
          "base_uri": "https://localhost:8080/"
        },
        "id": "sSQonRcA0t74",
        "outputId": "4b72a082-1b6a-4c63-f202-e75f2b9b6468"
      },
      "execution_count": 30,
      "outputs": [
        {
          "output_type": "execute_result",
          "data": {
            "text/plain": [
              "0       USA\n",
              "1       USA\n",
              "2       USA\n",
              "3       USA\n",
              "4       USA\n",
              "       ... \n",
              "3868    USA\n",
              "3869    USA\n",
              "3870    USA\n",
              "3871    USA\n",
              "3872    USA\n",
              "Name: sales_country, Length: 3873, dtype: object"
            ]
          },
          "metadata": {},
          "execution_count": 30
        }
      ]
    },
    {
      "cell_type": "code",
      "source": [
        "df.info()"
      ],
      "metadata": {
        "colab": {
          "base_uri": "https://localhost:8080/"
        },
        "id": "H03KK3BftjAd",
        "outputId": "74379cea-c38b-4d0d-9c8b-da3859d63bf1"
      },
      "execution_count": 13,
      "outputs": [
        {
          "output_type": "stream",
          "name": "stdout",
          "text": [
            "<class 'pandas.core.frame.DataFrame'>\n",
            "Int64Index: 3873 entries, 0 to 3872\n",
            "Data columns (total 40 columns):\n",
            " #   Column                      Non-Null Count  Dtype  \n",
            "---  ------                      --------------  -----  \n",
            " 0   food_category               3873 non-null   object \n",
            " 1   food_department             3873 non-null   object \n",
            " 2   food_family                 3873 non-null   object \n",
            " 3   store_sales(in millions)    3873 non-null   float64\n",
            " 4   store_cost(in millions)     3873 non-null   float64\n",
            " 5   unit_sales(in millions)     3873 non-null   float64\n",
            " 6   promotion_name              3873 non-null   object \n",
            " 7   sales_country               3873 non-null   object \n",
            " 8   marital_status              3873 non-null   object \n",
            " 9   gender                      3873 non-null   object \n",
            " 10  total_children              3873 non-null   float64\n",
            " 11  education                   3873 non-null   object \n",
            " 12  member_card                 3873 non-null   object \n",
            " 13  occupation                  3873 non-null   object \n",
            " 14  houseowner                  3873 non-null   object \n",
            " 15  avg_cars_at home(approx)    3873 non-null   float64\n",
            " 16  avg. yearly_income          3873 non-null   object \n",
            " 17  num_children_at_home        3873 non-null   float64\n",
            " 18  avg_cars_at home(approx).1  3873 non-null   float64\n",
            " 19  brand_name                  3873 non-null   object \n",
            " 20  SRP                         3873 non-null   float64\n",
            " 21  gross_weight                3873 non-null   float64\n",
            " 22  net_weight                  3873 non-null   float64\n",
            " 23  recyclable_package          3873 non-null   float64\n",
            " 24  low_fat                     3873 non-null   float64\n",
            " 25  units_per_case              3873 non-null   float64\n",
            " 26  store_type                  3873 non-null   object \n",
            " 27  store_city                  3873 non-null   object \n",
            " 28  store_state                 3873 non-null   object \n",
            " 29  store_sqft                  3873 non-null   float64\n",
            " 30  grocery_sqft                3873 non-null   float64\n",
            " 31  frozen_sqft                 3873 non-null   float64\n",
            " 32  meat_sqft                   3873 non-null   float64\n",
            " 33  coffee_bar                  3873 non-null   float64\n",
            " 34  video_store                 3873 non-null   float64\n",
            " 35  salad_bar                   3873 non-null   float64\n",
            " 36  prepared_food               3873 non-null   float64\n",
            " 37  florist                     3873 non-null   float64\n",
            " 38  media_type                  3873 non-null   object \n",
            " 39  cost                        3873 non-null   float64\n",
            "dtypes: float64(23), object(17)\n",
            "memory usage: 1.2+ MB\n"
          ]
        }
      ]
    },
    {
      "cell_type": "code",
      "source": [
        "df.dropna(inplace=True)"
      ],
      "metadata": {
        "id": "yPxITyvovKMP"
      },
      "execution_count": 12,
      "outputs": []
    },
    {
      "cell_type": "code",
      "source": [
        "ax, fig = plt.subplots (figsize = (7,7))\n",
        "ax = sns.countplot(df['food_category'])\n"
      ],
      "metadata": {
        "colab": {
          "base_uri": "https://localhost:8080/",
          "height": 500
        },
        "id": "BsDlmrysvPS3",
        "outputId": "19c00293-f79e-4cfb-d3ed-63ddd476dfcc"
      },
      "execution_count": 20,
      "outputs": [
        {
          "output_type": "stream",
          "name": "stderr",
          "text": [
            "/usr/local/lib/python3.7/dist-packages/seaborn/_decorators.py:43: FutureWarning: Pass the following variable as a keyword arg: x. From version 0.12, the only valid positional argument will be `data`, and passing other arguments without an explicit keyword will result in an error or misinterpretation.\n",
            "  FutureWarning\n"
          ]
        },
        {
          "output_type": "display_data",
          "data": {
            "text/plain": [
              "<Figure size 504x504 with 1 Axes>"
            ],
            "image/png": "[encoded data removed]"
          },
          "metadata": {
            "needs_background": "light"
          }
        }
      ]
    },
    {
      "cell_type": "code",
      "source": [
        "ax, fig = plt.subplots (figsize = (7,7))\n",
        "ax = sns.countplot(df['food_department'])"
      ],
      "metadata": {
        "colab": {
          "base_uri": "https://localhost:8080/",
          "height": 500
        },
        "id": "_OHCLXm4vuMG",
        "outputId": "d6690262-53ea-40a8-a5a6-cfc853449284"
      },
      "execution_count": 23,
      "outputs": [
        {
          "output_type": "stream",
          "name": "stderr",
          "text": [
            "/usr/local/lib/python3.7/dist-packages/seaborn/_decorators.py:43: FutureWarning: Pass the following variable as a keyword arg: x. From version 0.12, the only valid positional argument will be `data`, and passing other arguments without an explicit keyword will result in an error or misinterpretation.\n",
            "  FutureWarning\n"
          ]
        },
        {
          "output_type": "display_data",
          "data": {
            "text/plain": [
              "<Figure size 504x504 with 1 Axes>"
            ],
            "image/png": "[encoded data removed]"
          },
          "metadata": {
            "needs_background": "light"
          }
        }
      ]
    },
    {
      "cell_type": "code",
      "source": [
        "le = preprocessing.LabelEncoder()"
      ],
      "metadata": {
        "id": "4bBfpl7N0JBl"
      },
      "execution_count": 26,
      "outputs": []
    },
    {
      "cell_type": "code",
      "source": [
        "df['food_category'] = le.fit_transform(df['food_category'])"
      ],
      "metadata": {
        "id": "cdVDjRJ70VFH"
      },
      "execution_count": 28,
      "outputs": []
    },
    {
      "cell_type": "code",
      "source": [
        "df['food_department'] = le.fit_transform(df['food_department'])"
      ],
      "metadata": {
        "id": "1oSZ-KTJ0dNQ"
      },
      "execution_count": 29,
      "outputs": []
    },
    {
      "cell_type": "code",
      "source": [
        "df['food_family'] = le.fit_transform(df['food_family'])\n",
        "df['promotion_name'] = le.fit_transform(df['promotion_name'])\n",
        "df['sales_country'] = le.fit_transform(df['sales_country'])\n",
        "df['marital_status'] = le.fit_transform(df['marital_status'])\n",
        "df['gender'] = le.fit_transform(df['gender'])\n",
        "df['education'] = le.fit_transform(df['education'])\n",
        "df['member_card'] = le.fit_transform(df['member_card'])\n",
        "df['occupation'] = le.fit_transform(df['occupation'])\n",
        "df['houseowner'] = le.fit_transform(df['houseowner'])"
      ],
      "metadata": {
        "id": "jKY0kcXd0iGu"
      },
      "execution_count": 32,
      "outputs": []
    },
    {
      "cell_type": "code",
      "source": [
        "df['avg. yearly_income'] = le.fit_transform(df['avg. yearly_income'])\n",
        "df['brand_name'] = le.fit_transform(df['brand_name'])\n",
        "df['store_type'] = le.fit_transform(df['store_type'])\n",
        "df['store_state'] = le.fit_transform(df['store_state'])\n",
        "df['media_type'] = le.fit_transform(df['media_type'])\n",
        "df['store_city'] = le.fit_transform(df['store_city'])"
      ],
      "metadata": {
        "id": "ru9w6JxF1PCh"
      },
      "execution_count": 43,
      "outputs": []
    },
    {
      "cell_type": "code",
      "source": [
        "df.info()"
      ],
      "metadata": {
        "colab": {
          "base_uri": "https://localhost:8080/"
        },
        "id": "X-dDe64x1llT",
        "outputId": "53f7d953-f0bf-465d-f4b8-1a0bb8b58f9e"
      },
      "execution_count": 44,
      "outputs": [
        {
          "output_type": "stream",
          "name": "stdout",
          "text": [
            "<class 'pandas.core.frame.DataFrame'>\n",
            "Int64Index: 3873 entries, 0 to 3872\n",
            "Data columns (total 40 columns):\n",
            " #   Column                      Non-Null Count  Dtype  \n",
            "---  ------                      --------------  -----  \n",
            " 0   food_category               3873 non-null   int64  \n",
            " 1   food_department             3873 non-null   int64  \n",
            " 2   food_family                 3873 non-null   int64  \n",
            " 3   store_sales(in millions)    3873 non-null   float64\n",
            " 4   store_cost(in millions)     3873 non-null   float64\n",
            " 5   unit_sales(in millions)     3873 non-null   float64\n",
            " 6   promotion_name              3873 non-null   int64  \n",
            " 7   sales_country               3873 non-null   int64  \n",
            " 8   marital_status              3873 non-null   int64  \n",
            " 9   gender                      3873 non-null   int64  \n",
            " 10  total_children              3873 non-null   float64\n",
            " 11  education                   3873 non-null   int64  \n",
            " 12  member_card                 3873 non-null   int64  \n",
            " 13  occupation                  3873 non-null   int64  \n",
            " 14  houseowner                  3873 non-null   int64  \n",
            " 15  avg_cars_at home(approx)    3873 non-null   float64\n",
            " 16  avg. yearly_income          3873 non-null   int64  \n",
            " 17  num_children_at_home        3873 non-null   float64\n",
            " 18  avg_cars_at home(approx).1  3873 non-null   float64\n",
            " 19  brand_name                  3873 non-null   int64  \n",
            " 20  SRP                         3873 non-null   float64\n",
            " 21  gross_weight                3873 non-null   float64\n",
            " 22  net_weight                  3873 non-null   float64\n",
            " 23  recyclable_package          3873 non-null   float64\n",
            " 24  low_fat                     3873 non-null   float64\n",
            " 25  units_per_case              3873 non-null   float64\n",
            " 26  store_type                  3873 non-null   int64  \n",
            " 27  store_city                  3873 non-null   int64  \n",
            " 28  store_state                 3873 non-null   int64  \n",
            " 29  store_sqft                  3873 non-null   float64\n",
            " 30  grocery_sqft                3873 non-null   float64\n",
            " 31  frozen_sqft                 3873 non-null   float64\n",
            " 32  meat_sqft                   3873 non-null   float64\n",
            " 33  coffee_bar                  3873 non-null   float64\n",
            " 34  video_store                 3873 non-null   float64\n",
            " 35  salad_bar                   3873 non-null   float64\n",
            " 36  prepared_food               3873 non-null   float64\n",
            " 37  florist                     3873 non-null   float64\n",
            " 38  media_type                  3873 non-null   int64  \n",
            " 39  cost                        3873 non-null   float64\n",
            "dtypes: float64(23), int64(17)\n",
            "memory usage: 1.3 MB\n"
          ]
        }
      ]
    },
    {
      "cell_type": "code",
      "source": [
        "y = df['cost']\n",
        "x = df.drop(['cost'], axis=1)"
      ],
      "metadata": {
        "id": "W99mZadi1m1N"
      },
      "execution_count": 45,
      "outputs": []
    },
    {
      "cell_type": "code",
      "source": [
        "x_train, x_test, y_train, y_test = train_test_split (x,y, test_size = (0.3))"
      ],
      "metadata": {
        "id": "NylqBBuo1ssL"
      },
      "execution_count": 46,
      "outputs": []
    },
    {
      "cell_type": "code",
      "source": [
        "model = DecisionTreeRegressor()"
      ],
      "metadata": {
        "id": "6eUjvfmE1y-T"
      },
      "execution_count": 53,
      "outputs": []
    },
    {
      "cell_type": "code",
      "source": [
        "model = model.fit(x_train, y_train)"
      ],
      "metadata": {
        "id": "gUrNrt2J17RL"
      },
      "execution_count": 54,
      "outputs": []
    },
    {
      "cell_type": "code",
      "source": [
        "score = model.score(x_test, y_test)"
      ],
      "metadata": {
        "id": "1G5xwdF_1-HE"
      },
      "execution_count": 55,
      "outputs": []
    },
    {
      "cell_type": "code",
      "source": [
        "print(score)"
      ],
      "metadata": {
        "colab": {
          "base_uri": "https://localhost:8080/"
        },
        "id": "KeOyoiAJ20dR",
        "outputId": "1b1162d6-865b-4f61-c074-8c4908afa734"
      },
      "execution_count": 56,
      "outputs": [
        {
          "output_type": "stream",
          "name": "stdout",
          "text": [
            "0.933065406141485\n"
          ]
        }
      ]
    },
    {
      "cell_type": "code",
      "source": [],
      "metadata": {
        "id": "KieV47Nn21Zf"
      },
      "execution_count": null,
      "outputs": []
    }
  ]
}